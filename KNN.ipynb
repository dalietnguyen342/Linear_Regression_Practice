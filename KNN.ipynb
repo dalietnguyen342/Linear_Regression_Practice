{
  "nbformat": 4,
  "nbformat_minor": 0,
  "metadata": {
    "colab": {
      "name": "KNN.ipynb",
      "provenance": [],
      "collapsed_sections": []
    },
    "kernelspec": {
      "name": "python3",
      "display_name": "Python 3"
    },
    "language_info": {
      "name": "python"
    }
  },
  "cells": [
    {
      "cell_type": "code",
      "source": [
        "import matplotlib.pyplot as plt\n",
        "import numpy as np\n",
        "from sklearn import datasets\n",
        "import matplotlib.colors as colors\n",
        "from sklearn.model_selection import train_test_split\n",
        "import pandas as pd\n"
      ],
      "metadata": {
        "id": "wL9gEOig1naH"
      },
      "execution_count": 87,
      "outputs": []
    },
    {
      "cell_type": "code",
      "source": [
        "ris = datasets.load_iris()\n",
        "X, y = iris.data, iris.target\n",
        "cmap1 = colors.ListedColormap(['#7fc97f', '#ffff99','#386cb0'])\n",
        "\n",
        "#Sepal\n",
        "plt.title(\"Sepal\")\n",
        "plt.xlabel('Sepal Length')\n",
        "plt.ylabel('Sepal Width')\n",
        "plt.scatter(X[:,0], X[:,1],c=y, cmap = cmap1)\n",
        "plt.show()\n",
        "\n",
        "#Petal\n",
        "plt.title(\"Petal\")\n",
        "plt.xlabel('Petal Length')\n",
        "plt.ylabel('Petal Width')\n",
        "plt.scatter(X[:,2], X[:,3],c=y, cmap = cmap1)\n",
        "plt.show()"
      ],
      "metadata": {
        "id": "yIDEkr_8nLeh"
      },
      "execution_count": null,
      "outputs": []
    },
    {
      "cell_type": "markdown",
      "source": [
        "**SKLEARN**"
      ],
      "metadata": {
        "id": "nTObS_r5CtB8"
      }
    },
    {
      "cell_type": "code",
      "source": [
        "#import necessary libraries for python\n",
        "from sklearn.neighbors import KNeighborsClassifier\n",
        "from sklearn.metrics import accuracy_score\n",
        "\n",
        "#split train - test\n",
        "X_train, X_test, y_train, y_test = train_test_split(X, y, test_size=120)\n",
        "np.random.seed(32)\n",
        "\n",
        "knn = KNeighborsClassifier(n_neighbors=3)\n",
        "knn.fit(X_train,y_train)\n",
        "y_pred = knn.predict(X_test)\n",
        "\n",
        "\n",
        "print('Do chinh xac:' ,(knn.score(X_test,y_test)))"
      ],
      "metadata": {
        "colab": {
          "base_uri": "https://localhost:8080/"
        },
        "id": "XaoR9UvSuJyx",
        "outputId": "5f50507e-05d2-4646-d9a6-ebb4098d7fe3"
      },
      "execution_count": 69,
      "outputs": [
        {
          "output_type": "stream",
          "name": "stdout",
          "text": [
            "Do chinh xac: 0.95\n"
          ]
        }
      ]
    },
    {
      "cell_type": "markdown",
      "source": [
        "**CODE FROM SCRATCH**"
      ],
      "metadata": {
        "id": "j4uaS6AYDJQr"
      }
    },
    {
      "cell_type": "code",
      "source": [
        "from collections import Counter\n",
        "\n",
        "def euclidean_distance(X,Y):\n",
        "  return np.sqrt(np.sum((X-Y)**2))\n",
        "\n",
        "class KNN:\n",
        "  def __init__(self, k):\n",
        "    self.k = k\n",
        "\n",
        "  def fit(self, X,y):\n",
        "    self.X_train = X\n",
        "    self.y_train = y\n",
        "\n",
        "  def predict(self, X):\n",
        "    # dự doán cho toàn bộ x trong tập X_train\n",
        "    y_pred = [self._predict(x) for x in X]\n",
        "    return np.array(y_pred)\n",
        "\n",
        "  def _predict(self, x):\n",
        "        # Tính toán khoảng cách từ x đến từng điểm trong bộ training\n",
        "    distances = [euclidean_distance(x, x_train) for x_train in self.X_train]\n",
        "        # Sắp xếp lọc ra những index nào có khoảng cách gần nhất [:k]\n",
        "    k_idx = np.argsort(distances)[:self.k]\n",
        "        # Trích nhãn của k mẫu gần nhất\n",
        "    k_neighbor_labels = [self.y_train[i] for i in k_idx]\n",
        "        # return the most common class label\n",
        "    most_common = Counter(k_neighbor_labels).most_common(1)\n",
        "    return most_common[0][0]\n"
      ],
      "metadata": {
        "id": "DYz4Hryp6qfw"
      },
      "execution_count": 89,
      "outputs": []
    },
    {
      "cell_type": "code",
      "source": [
        "iris = datasets.load_iris()\n",
        "\n",
        "k = 3\n",
        "clf = KNN(k=k)\n",
        "clf.fit(X_train, y_train)\n",
        "y_pred = clf.predict(X_test)\n",
        "acc = np.sum(y_pred == y_test) / len(y_test)\n",
        "print('Do chinh xac:' ,acc)\n",
        "\n",
        "\n"
      ],
      "metadata": {
        "id": "dr39a3qm15DY",
        "colab": {
          "base_uri": "https://localhost:8080/"
        },
        "outputId": "a2f4c355-73b3-4785-b1a7-d53359d90c6f"
      },
      "execution_count": 91,
      "outputs": [
        {
          "output_type": "stream",
          "name": "stdout",
          "text": [
            "Do chinh xac: 0.95\n"
          ]
        }
      ]
    }
  ]
}