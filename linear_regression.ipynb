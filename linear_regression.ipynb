{
  "nbformat": 4,
  "nbformat_minor": 0,
  "metadata": {
    "colab": {
      "name": "linear regression.ipynb",
      "provenance": [],
      "collapsed_sections": []
    },
    "kernelspec": {
      "name": "python3",
      "display_name": "Python 3"
    },
    "language_info": {
      "name": "python"
    }
  },
  "cells": [
    {
      "cell_type": "markdown",
      "source": [
        "DÙNG **SKILEARN**"
      ],
      "metadata": {
        "id": "8d9Cen6RO2i0"
      }
    },
    {
      "cell_type": "code",
      "source": [
        "import pandas as pd\n",
        "import numpy as np\n",
        "import matplotlib.pyplot as plt\n",
        "from sklearn import linear_model"
      ],
      "metadata": {
        "id": "pa3_VyWjDAGP"
      },
      "execution_count": null,
      "outputs": []
    },
    {
      "cell_type": "code",
      "source": [
        "df = pd.read_csv(\"/content/data1_height_w_student.csv\")\n",
        "df\n",
        "X = df.Height.T\n",
        "X = X.values.reshape(13,1)\n",
        "Y = df.Weight.T"
      ],
      "metadata": {
        "id": "Wwp_bkNuDbUN"
      },
      "execution_count": 148,
      "outputs": []
    },
    {
      "cell_type": "code",
      "source": [
        "# fit the model by Linear Regression\n",
        "regr = linear_model.LinearRegression() \n",
        "regr.fit(X,Y)\n",
        "\n",
        "# Result \n",
        "print ('Nghiệm tìm được bằng scikit-learn  : w_1 =', regr.coef_ [0], \", w_0 =\",regr.intercept_)\n",
        "\n",
        "# Phương trình\n",
        "x_reg = np.linspace(145,185,2)\n",
        "y_reg = regr.intercept_ + regr.coef_ [0] * x_reg\n",
        "\n",
        "# Draw line\n",
        "plt.scatter(X,Y, color = 'red', marker = '*')\n",
        "plt.xlabel('height (cm)')\n",
        "plt.ylabel('weight (kg)')\n",
        "plt.plot(x_reg, y_reg) \n",
        "plt.show()"
      ],
      "metadata": {
        "colab": {
          "base_uri": "https://localhost:8080/",
          "height": 296
        },
        "id": "iJbWmygbFqor",
        "outputId": "2f06f982-873e-4ac7-91a6-540afa7ddb09"
      },
      "execution_count": 145,
      "outputs": [
        {
          "output_type": "stream",
          "name": "stdout",
          "text": [
            "Nghiệm tìm được bằng scikit-learn  : w_1 = 0.5592049619396674 , w_0 = -33.73541020580774\n"
          ]
        },
        {
          "output_type": "display_data",
          "data": {
            "text/plain": [
              "<Figure size 432x288 with 1 Axes>"
            ],
            "image/png": "[encoded data removed]"
          },
          "metadata": {
            "needs_background": "light"
          }
        }
      ]
    },
    {
      "cell_type": "markdown",
      "source": [
        "DÙNG **BÀI TOÁN**"
      ],
      "metadata": {
        "id": "RNwAuYl9YO_x"
      }
    },
    {
      "cell_type": "code",
      "source": [
        "# Bias Trick (Gộp hệ số điều chỉnh)\n",
        "one = np.ones((len(X), 1))\n",
        "Xbar = np.concatenate((one,X), axis = 1) \n",
        "\n",
        "# Tính toán dự trên công thức: w = (X*X.T)^-1.(X.Y)\n",
        "A = np.dot(Xbar.T, Xbar)\n",
        "b = np.dot(Xbar.T, Y)\n",
        "w = np.dot(np.linalg.pinv(A), b)\n",
        "\n",
        "# Hàm dự đoán\n",
        "w_0 = w[0]\n",
        "w_1 = w[1]\n",
        "x_0 = np.linspace(145,185,2)\n",
        "y_0 = w_0 + w_1 *x_0\n",
        "\n",
        "# Vẽ biểu đồ\n",
        "plt.scatter(X,Y, color = 'red', marker = '*')\n",
        "plt.xlabel('height (cm)')\n",
        "plt.ylabel('weight (kg)')\n",
        "plt.plot(x_0,y_0) \n",
        "plt.show()\n",
        "print ('Nghiệm tìm được bằng scikit-learn  : w_1 =', w_1, \", w_0 =\",w_0)"
      ],
      "metadata": {
        "colab": {
          "base_uri": "https://localhost:8080/",
          "height": 296
        },
        "id": "YFH3e0OqsBe0",
        "outputId": "17cd7f3d-1f72-4b37-a95c-fa7f482cd6e2"
      },
      "execution_count": 147,
      "outputs": [
        {
          "output_type": "display_data",
          "data": {
            "text/plain": [
              "<Figure size 432x288 with 1 Axes>"
            ],
            "image/png": "[encoded data removed]"
          },
          "metadata": {
            "needs_background": "light"
          }
        },
        {
          "output_type": "stream",
          "name": "stdout",
          "text": [
            "Nghiệm tìm được bằng scikit-learn  : w_1 = 0.5592049619425978 , w_0 = -33.735410206298184\n"
          ]
        }
      ]
    }
  ]
}